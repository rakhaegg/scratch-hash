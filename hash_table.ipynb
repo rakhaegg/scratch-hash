{
  "nbformat": 4,
  "nbformat_minor": 0,
  "metadata": {
    "colab": {
      "name": "hash_table.ipynb",
      "provenance": [],
      "collapsed_sections": [],
      "authorship_tag": "ABX9TyPeDIugrEcO1JpZJN18REYp"
    },
    "kernelspec": {
      "name": "python3",
      "display_name": "Python 3"
    },
    "language_info": {
      "name": "python"
    }
  },
  "cells": [
    {
      "cell_type": "markdown",
      "source": [
        "**Code : https://www.programiz.com/dsa/hash-table**"
      ],
      "metadata": {
        "id": "QM5POqVl6bA6"
      }
    },
    {
      "cell_type": "markdown",
      "source": [
        "# **Direct Address**"
      ],
      "metadata": {
        "id": "GREjWeTiDiZy"
      }
    },
    {
      "cell_type": "markdown",
      "source": [
        "Direct address adalah teknik secara langsung untuk mendapatkan atau menambahkan sebuah nilai dengan menggunakan key sebagai patokan"
      ],
      "metadata": {
        "id": "5-yM6SilD6BN"
      }
    },
    {
      "cell_type": "code",
      "source": [
        "table = []\n",
        "count_index = 0\n",
        "for x in range(10):\n",
        "  arr = []\n",
        "  arr.append(count_index)\n",
        "  table.append(arr)\n",
        "  count_index = count_index + 1\n",
        "print(table)\n",
        "#print(direct_table)"
      ],
      "metadata": {
        "colab": {
          "base_uri": "https://localhost:8080/"
        },
        "id": "lWCohG4WDpJw",
        "outputId": "dba8ee2a-7620-4142-f828-01c515d186ac"
      },
      "execution_count": 1,
      "outputs": [
        {
          "output_type": "stream",
          "name": "stdout",
          "text": [
            "[[0], [1], [2], [3], [4], [5], [6], [7], [8], [9]]\n"
          ]
        }
      ]
    },
    {
      "cell_type": "code",
      "source": [
        "def direct_address_insert(T , x):\n",
        "    T[x.key].append(x) \n",
        "def direct_address_delete(T , x):\n",
        "    T[x][1] = None\n",
        "def direct_address_search(T , x):\n",
        "    return T[x][1]\n",
        "    \n",
        "  \n",
        "# def\n",
        "class Node:\n",
        "  def __init__(self , data, key):\n",
        "    self.data = data\n",
        "    self.key = key\n",
        "U = {\n",
        "    0 : None,\n",
        "    1 : None,\n",
        "    2 : 'Rakha',\n",
        "    3 : 'Elang',\n",
        "    4 : None,\n",
        "    5 : 'Gunawan',\n",
        "    6 : None,\n",
        "    7 : None ,\n",
        "    8 : 'DA',\n",
        "    9 : None \n",
        "}\n",
        "for x in U.keys():\n",
        "  node = Node(U[x] , x)\n",
        "  direct_address_insert(table, node)\n",
        "\n",
        "#direct_address_delete(table  , 0)\n",
        "print(direct_address_search(table , 0))"
      ],
      "metadata": {
        "colab": {
          "base_uri": "https://localhost:8080/"
        },
        "id": "MQyFf5Y0EDqK",
        "outputId": "3c550e57-674f-4b9d-b058-0e6fe67a0df9"
      },
      "execution_count": 2,
      "outputs": [
        {
          "output_type": "stream",
          "name": "stdout",
          "text": [
            "<__main__.Node object at 0x7fc586db94d0>\n"
          ]
        }
      ]
    },
    {
      "cell_type": "markdown",
      "source": [
        "# **Hash Table**"
      ],
      "metadata": {
        "id": "E2C7Zvv-jHuN"
      }
    },
    {
      "cell_type": "markdown",
      "source": [
        "**Pada Direct Address memiliki masalah yaitu terjadi tabrakan key. Tabrakan key terjadi jika menyimpan dua objek yang berebeda tetapi memiliki key yang sama**"
      ],
      "metadata": {
        "id": "2JgtnksYjWaa"
      }
    },
    {
      "cell_type": "markdown",
      "source": [
        "**Cara pertama untuk menghindara tabrakan key tersebut adalah Chaining**"
      ],
      "metadata": {
        "id": "zNcgtdUyjleX"
      }
    },
    {
      "cell_type": "markdown",
      "source": [
        "**Chaining adalah proses membuat value yang memiliki key sama dijadikan Double Linked List**"
      ],
      "metadata": {
        "id": "vHUv6d_Bjq0B"
      }
    },
    {
      "cell_type": "code",
      "source": [
        "U = {\n",
        "    0 : None,\n",
        "    1 : 'Rakha',\n",
        "    2 : 'Rakha',\n",
        "    3 : 'Elang',\n",
        "    4 : 'Elang',\n",
        "    5 : 'Gunawan',\n",
        "    6 : 'Gunawan',\n",
        "    7 : 'DA' ,\n",
        "    8 : 'DA',\n",
        "    9 : None \n",
        "}\n",
        "print(U[1])\n"
      ],
      "metadata": {
        "colab": {
          "base_uri": "https://localhost:8080/"
        },
        "id": "E6y6285Ukhxr",
        "outputId": "3be755ed-265a-4731-bb4a-462959c8b6d5"
      },
      "execution_count": 3,
      "outputs": [
        {
          "output_type": "stream",
          "name": "stdout",
          "text": [
            "Rakha\n"
          ]
        }
      ]
    },
    {
      "cell_type": "code",
      "source": [
        ""
      ],
      "metadata": {
        "id": "9Tj7SOsUk6Je"
      },
      "execution_count": 3,
      "outputs": []
    },
    {
      "cell_type": "code",
      "source": [
        "class Node:\n",
        "  def __init__(self , key , data):\n",
        "    self.key = key\n",
        "    self.data = data\n",
        "    self.next = None\n",
        "    self.prev = None"
      ],
      "metadata": {
        "id": "NhFDA-mhs4I2"
      },
      "execution_count": 59,
      "outputs": []
    },
    {
      "cell_type": "code",
      "source": [
        "class DoubleLinkList:\n",
        "  def __init__(self):\n",
        "    self.head = None\n",
        "    self.tail = None\n",
        "    self.length = 0\n",
        "  def insertData(self , key , data):\n",
        "    self.length = self.length + 1 \n",
        "    node = Node(key  ,data )\n",
        "    if self.head:\n",
        "      current = self.head\n",
        "      while current.next :\n",
        "        current = current.next\n",
        "      current.next = node\n",
        "      current.next.prev = current\n",
        "      self.tail = current.next\n",
        "    else:\n",
        "      self.head = node\n",
        "      self.tail = node\n",
        "  def deleteData(self , data):\n",
        "    current = self.head\n",
        "    tail = self.tail\n",
        "    positionCurrent = 0\n",
        "    positionTail = self.length-1\n",
        "    while current and tail:\n",
        "      if positionCurrent == positionTail:\n",
        "        if current.data == data and tail.data == data and current.prev == None and tail.next == None:\n",
        "          self.head = None\n",
        "          self.tail = None\n",
        "          self.length = self.length - 1\n",
        "        elif current.data == data and tail.data == data and current.prev != None and tail.next != None:\n",
        "          print(\"Ketemuan Di Tengah\")\n",
        "          current.prev.next = current.next\n",
        "          current.next.prev = current.prev\n",
        "          del current\n",
        "          self.length = self.length - 1        \n",
        "      if positionCurrent > positionTail:\n",
        "        break\n",
        "      if current.data == data:\n",
        "        if current.next and current.prev:\n",
        "          # Ketika prev dan next memiliki data\n",
        "          current.prev.next = current.next\n",
        "          current.next.prev = current.prev\n",
        "          break\n",
        "        elif current.next != None and current.prev == None:\n",
        "          # Ketika next memiliki data dan prev None  \n",
        "          #self.head = current.next\n",
        "          self.head = current.next\n",
        "          del current\n",
        "          self.length = self.length - 1\n",
        "          #self.index = self.index - 1\n",
        "          break\n",
        "\n",
        "      if tail.data == data:\n",
        "        if tail.next and tail.prev:\n",
        "          # Ketika prev dan memiliki data\n",
        "          tail.prev.next = tail.next\n",
        "          tail.next.prev = tail.prev\n",
        "          break\n",
        "        elif tail.prev != None and tail.next == None:\n",
        "          # Ketika prev adalah data next adalah none\n",
        "          tail.prev.next = None\n",
        "          self.tail = tail.prev\n",
        "          break\n",
        "      positionCurrent = positionCurrent +1\n",
        "      positionTail = positionTail - 1\n",
        "      current = current.next\n",
        "      tail = tail.prev\n",
        "  def printNext(self):\n",
        "    current = self.head\n",
        "    while current:\n",
        "      print(\"PREV : \" , current.prev)\n",
        "      print(\"DATA : \" , current.data)\n",
        "      print(\"NODE : \"  , current)\n",
        "      print(\"NEXT : \" , current.next)\n",
        "      print()\n",
        "      current = current.next\n",
        "  def gettingData(self , key):\n",
        "    current  =self.head\n",
        "    tail = self.tail\n",
        "    positionCurrent = 0\n",
        "    positionTail = self.length -1\n",
        "    \n",
        "    while current and tail:\n",
        "      if positionTail == positionCurrent:\n",
        "        if current.key == key and tail.key == key:\n",
        "          return current\n",
        "      if positionTail < positionCurrent : \n",
        "        break\n",
        "      if current.key == key:\n",
        "        return current\n",
        "      if tail.key == key:\n",
        "        return tail\n",
        "      current = current.next\n",
        "      tail = tail.prev\n",
        "      positionCurrent = positionCurrent + 1\n",
        "      positionTail = positionTail - 1\n",
        "      return None\n",
        "  def printData(self):\n",
        "    current = self.head\n",
        "    tail = self.tail\n",
        "    dataCurrent = []\n",
        "    dataTail = []\n",
        "    positionCurrent = 0\n",
        "    positionTail  = self.length -1\n",
        "    #print(positionTail)\n",
        "    while current and tail:\n",
        "      if positionTail == positionCurrent:\n",
        "        dataCurrent.append(current.data)\n",
        "        break\n",
        "      if  positionTail < positionCurrent :\n",
        "        break\n",
        "      dataCurrent.append(current.data)\n",
        "      dataTail.append(tail.data)\n",
        "      current = current.next\n",
        "      tail = tail.prev\n",
        "      positionCurrent = positionCurrent + 1\n",
        "      positionTail = positionTail - 1\n",
        "    \n",
        "    dataTail.reverse()\n",
        "    result = dataCurrent + dataTail\n",
        "    print(result)"
      ],
      "metadata": {
        "id": "P3SLN6DvudXO"
      },
      "execution_count": 102,
      "outputs": []
    },
    {
      "cell_type": "code",
      "source": [
        "list_data = DoubleLinkList()\n",
        "list_data.insertData(2 ,10 )\n",
        "list_data.insertData(2 , 100)\n",
        "list_data.insertData(2 , 20)\n",
        "list_data.insertData(2 , 5000)\n",
        "list_data.insertData(2 , 1)\n",
        "list_data.printData()\n",
        "#list_data.printNext()"
      ],
      "metadata": {
        "colab": {
          "base_uri": "https://localhost:8080/"
        },
        "id": "KtXVSWqlvI10",
        "outputId": "b923d5ef-44c1-457a-cfa0-ea6b0b5d70d4"
      },
      "execution_count": 83,
      "outputs": [
        {
          "output_type": "stream",
          "name": "stdout",
          "text": [
            "[10, 100, 20, 5000, 1]\n"
          ]
        }
      ]
    },
    {
      "cell_type": "code",
      "source": [
        "list_data.deleteData(10)\n",
        "list_data.printData()"
      ],
      "metadata": {
        "colab": {
          "base_uri": "https://localhost:8080/"
        },
        "id": "fG6sGue9LqnF",
        "outputId": "f0c14ff7-e810-41ec-cd50-f7d0578a7c5c"
      },
      "execution_count": 84,
      "outputs": [
        {
          "output_type": "stream",
          "name": "stdout",
          "text": [
            "[100, 20, 5000, 1]\n"
          ]
        }
      ]
    },
    {
      "cell_type": "markdown",
      "source": [
        "**Metode Division**"
      ],
      "metadata": {
        "id": "G1eod22sYhtp"
      }
    },
    {
      "cell_type": "code",
      "source": [
        "key = [123 , 432 , 213 , 654 ]\n",
        "data = [\"apple\" , \"mango\" , \"banana\" , \"guava\"]\n",
        "\n",
        "def hash_division(T , key):\n",
        "  m = len(T)\n",
        "  return key % m \n",
        "\n",
        "def chained_hash_insert(T, *args):\n",
        "    whatKey =  hash_division(T , args[0])\n",
        "    if T[whatKey] == None:\n",
        "      link = DoubleLinkList()\n",
        "      link.insertData(args[0] ,args[1])\n",
        "      T[whatKey] = link\n",
        "    else :\n",
        "      T[whatKey].insertData(args[0] , args[1])\n",
        "def chained_hash_search(T , key ):\n",
        "    whatKey = hash_division(T , key)\n",
        "    return T[whatKey].gettingData(key)\n",
        "#def hash_division(T , key):\n",
        "\n",
        "\n",
        "table = [None] * len(key)\n",
        "chained_hash_insert(table , key[0] , data[0])\n",
        "chained_hash_insert(table , key[1] , data[1])\n",
        "chained_hash_insert(table , key[2] , data[2])\n",
        "chained_hash_insert(table , key[3] , data[3])\n",
        "\n",
        "print(chained_hash_search(table ,123  ).data)"
      ],
      "metadata": {
        "colab": {
          "base_uri": "https://localhost:8080/"
        },
        "id": "eykggwk0jV2c",
        "outputId": "f62b85c9-19f4-4646-af65-9f512444e756"
      },
      "execution_count": 105,
      "outputs": [
        {
          "output_type": "stream",
          "name": "stdout",
          "text": [
            "apple\n"
          ]
        }
      ]
    },
    {
      "cell_type": "markdown",
      "source": [
        "**Metode Multiplication**"
      ],
      "metadata": {
        "id": "e12HmDOGYu6U"
      }
    },
    {
      "cell_type": "code",
      "source": [
        "import math"
      ],
      "metadata": {
        "id": "5xbyBx0Lg-F4"
      },
      "execution_count": 107,
      "outputs": []
    },
    {
      "cell_type": "code",
      "source": [
        "print((math.sqrt(5) - 1) / 2)"
      ],
      "metadata": {
        "colab": {
          "base_uri": "https://localhost:8080/"
        },
        "id": "TrFSF17sYyHl",
        "outputId": "ea94a388-097a-4b07-af7b-6d518edf8289"
      },
      "execution_count": 109,
      "outputs": [
        {
          "output_type": "stream",
          "name": "stdout",
          "text": [
            "0.6180339887498949\n"
          ]
        }
      ]
    },
    {
      "cell_type": "code",
      "source": [
        "key = [123 , 432 , 213 , 654 ]\n",
        "data = [\"apple\" , \"mango\" , \"banana\" , \"guava\"]\n",
        "\n",
        "def hash_multiplication(T , key): \n",
        "    a = (math.sqrt(5) - 1)/2\n",
        "    ka = key * a\n",
        "    m = len(T)\n",
        "    print(\"Position : \" , math.floor(m * (ka % 1) ))\n",
        "    return math.floor(m * (ka % 1))\n",
        "\n",
        "def chained_hash_insert_multi(T, *args):\n",
        "    whatKey =  hash_multiplication(T , args[0])\n",
        "    if T[whatKey] == None:\n",
        "      link = DoubleLinkList()\n",
        "      link.insertData(args[0] ,args[1])\n",
        "      T[whatKey] = link\n",
        "    else :\n",
        "      T[whatKey].insertData(args[0] , args[1])\n",
        "def chained_hash_search_multi(T , key ):\n",
        "    whatKey = hash_division(T , key)\n",
        "    return T[whatKey].gettingData(key)\n",
        "  \n",
        "#def hash_division(T , key):\n",
        "\n",
        "table_multi = [None] * len(key)\n",
        "chained_hash_insert_multi(table , key[0] , data[0])\n",
        "chained_hash_insert_multi(table , key[1] , data[1])\n",
        "chained_hash_insert_multi(table , key[2] , data[2])\n",
        "chained_hash_insert_multi(table , key[3] , data[3])\n",
        "\n",
        "print(chained_hash_search_multi(table ,123  ).data)"
      ],
      "metadata": {
        "colab": {
          "base_uri": "https://localhost:8080/"
        },
        "id": "DZrub3bqYule",
        "outputId": "e027a66f-84f1-4003-e03a-c572b14ac700"
      },
      "execution_count": 116,
      "outputs": [
        {
          "output_type": "stream",
          "name": "stdout",
          "text": [
            "Position :  0\n",
            "Position :  3\n",
            "Position :  2\n",
            "Position :  0\n",
            "apple\n"
          ]
        }
      ]
    },
    {
      "cell_type": "markdown",
      "source": [
        "**Universal Hashing**"
      ],
      "metadata": {
        "id": "2exzs3eckTwu"
      }
    },
    {
      "cell_type": "code",
      "source": [
        ""
      ],
      "metadata": {
        "id": "8hfGye2QkVru"
      },
      "execution_count": null,
      "outputs": []
    },
    {
      "cell_type": "code",
      "execution_count": null,
      "metadata": {
        "id": "DFK1zyv74N8S"
      },
      "outputs": [],
      "source": [
        "hashTable = [[] , ] * 10"
      ]
    },
    {
      "cell_type": "code",
      "source": [
        "def checkPrime(n):\n",
        "  if n == 1 or n == 0 :\n",
        "    return 0\n",
        "  for i in range(2 , n//2):\n",
        "    if n% i ==0:\n",
        "      return 0\n",
        "  return 1\n"
      ],
      "metadata": {
        "id": "62c2dFjk6al4"
      },
      "execution_count": null,
      "outputs": []
    },
    {
      "cell_type": "code",
      "source": [
        "def getPrime(n):\n",
        "  if n % 2 == 0:\n",
        "    n = n+1\n",
        "  \n",
        "  while not checkPrime(n):\n",
        "    n += 2\n",
        "  return n"
      ],
      "metadata": {
        "id": "zRKJxLlb7H2l"
      },
      "execution_count": null,
      "outputs": []
    },
    {
      "cell_type": "code",
      "source": [
        "def hashFunctions(key):\n",
        "  capacity = getPrime(10)\n",
        "  return key % capacity"
      ],
      "metadata": {
        "id": "UCtFDM2h7TyV"
      },
      "execution_count": null,
      "outputs": []
    },
    {
      "cell_type": "code",
      "source": [
        "def insertData(key , data):\n",
        "  index = hashFunctions(key)\n",
        "  hashTable[index] = [key , data]\n",
        "def removeData(key):\n",
        "  index = hashFunctions(key)\n",
        "  hashTable[index] = 0\n",
        "  "
      ],
      "metadata": {
        "id": "2CeliA3I7fZ0"
      },
      "execution_count": null,
      "outputs": []
    },
    {
      "cell_type": "code",
      "source": [
        "insertData(123 , \"apple\")\n",
        "insertData(432 , \"mango\")\n",
        "insertData(213 , \"banana\")\n",
        "insertData(654 , \"guava\")\n",
        "\n",
        "print(hashTable)\n",
        "\n",
        "removeData(123)\n",
        "\n",
        "print(hashTable)"
      ],
      "metadata": {
        "id": "oxib434c7ujB"
      },
      "execution_count": null,
      "outputs": []
    }
  ]
}